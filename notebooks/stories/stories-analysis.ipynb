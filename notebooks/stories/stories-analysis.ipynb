{
 "cells": [
  {
   "cell_type": "markdown",
   "metadata": {
    "colab_type": "text",
    "id": "kO9wt2g3okLS"
   },
   "source": [
    "# Análise das Stories\n",
    "\n",
    "Notebook para o auxílio da análise das stories do chatbot."
   ]
  },
  {
   "cell_type": "markdown",
   "metadata": {},
   "source": [
    "### Configurando e Imports"
   ]
  },
  {
   "cell_type": "code",
   "execution_count": 1,
   "metadata": {},
   "outputs": [
    {
     "name": "stdout",
     "output_type": "stream",
     "text": [
      "Versões utilizadas neste jupyter notebook:\n",
      "rasa_nlu: 0.15.0 rasa_core: 0.14.1\n"
     ]
    }
   ],
   "source": [
    "import rasa_nlu\n",
    "import rasa_core\n",
    "from IPython.display import IFrame\n",
    "\n",
    "print(\"Versões utilizadas neste jupyter notebook:\")\n",
    "print(\"rasa_nlu: {} rasa_core: {}\".format(rasa_nlu.__version__, rasa_core.__version__))\n"
   ]
  },
  {
   "cell_type": "markdown",
   "metadata": {
    "colab_type": "text",
    "id": "tK5os3OinphP"
   },
   "source": [
    "## Análise e Avaliação das Stories"
   ]
  },
  {
   "cell_type": "markdown",
   "metadata": {
    "colab_type": "text",
    "id": "qWALQbCdwGxK"
   },
   "source": [
    "### Visualizaçõa do Fluxo de Conversa\n",
    "\n",
    "O comando abaixo monta um grafo com a relação das `intents` e `utters` do chatbot, ou seja, você vai conseguir visualizar o fluxo de conversa do seu chatbot.\n",
    "\n",
    "Esta visualização é importante para verificar possíveis problemas na estrutura do seu chatbot e se ele realmente chega em determinadas \"**falas**\" da conversa."
   ]
  },
  {
   "cell_type": "code",
   "execution_count": 2,
   "metadata": {},
   "outputs": [
    {
     "name": "stdout",
     "output_type": "stream",
     "text": [
      "/usr/local/lib/python3.6/runpy.py:125: RuntimeWarning: 'rasa_core.visualize' found in sys.modules after import of package 'rasa_core', but prior to execution of 'rasa_core.visualize'; this may result in unpredictable behaviour\n",
      "  warn(RuntimeWarning(msg))\n",
      "2019-09-24 18:49:01 \u001b[1;30mINFO    \u001b[0m \u001b[34mapscheduler.scheduler\u001b[0m  - Scheduler started\n",
      "\n",
      "WARNING: The TensorFlow contrib module will not be included in TensorFlow 2.0.\n",
      "For more information, please see:\n",
      "  * https://github.com/tensorflow/community/blob/master/rfcs/20180907-contrib-sunset.md\n",
      "  * https://github.com/tensorflow/addons\n",
      "If you depend on functionality not listed there, please file an issue.\n",
      "\n",
      "2019-09-24 18:49:01 \u001b[1;30mINFO    \u001b[0m \u001b[34m__main__\u001b[0m  - Starting to visualize stories...\n",
      "Processed Story Blocks: 100%|███| 62/62 [00:00<00:00, 4766.25it/s, # trackers=1]\n",
      "2019-09-24 18:49:02 \u001b[1;30mINFO    \u001b[0m \u001b[34m__main__\u001b[0m  - Finished graph creation. Saved into file:///work/notebooks/stories/chat_graph.html\n"
     ]
    }
   ],
   "source": [
    "!python -m rasa_core.visualize -d $COACH_DOMAIN_PATH -s $COACH_STORIES_PATH -o chat_graph.html"
   ]
  },
  {
   "cell_type": "markdown",
   "metadata": {},
   "source": [
    "O Rasa gerou uma página `html` com o grafo de conversa, para facilitar, você pode visualizar o grafo no arquivo `chat_graph.html` aqui na próxima celula.\n",
    "\n",
    "Use o mouse para dar zoom e arrastar sobre o conteúdo do grafo. Altere `width` e `height` se desejar.\n",
    "\n",
    "* Dica: caso você se perca com **zoom in** ou **zoom out** no grafo, apeas re-execute a célula abaixo e ele irá reaparecer na célula."
   ]
  },
  {
   "cell_type": "code",
   "execution_count": 3,
   "metadata": {},
   "outputs": [
    {
     "data": {
      "text/html": [
       "\n",
       "        <iframe\n",
       "            width=\"900\"\n",
       "            height=\"700\"\n",
       "            src=\"./chat_graph.html\"\n",
       "            frameborder=\"0\"\n",
       "            allowfullscreen\n",
       "        ></iframe>\n",
       "        "
      ],
      "text/plain": [
       "<IPython.lib.display.IFrame at 0x7f8efffdf978>"
      ]
     },
     "execution_count": 3,
     "metadata": {},
     "output_type": "execute_result"
    }
   ],
   "source": [
    "IFrame(src='./chat_graph.html', width=900, height=700)"
   ]
  },
  {
   "cell_type": "markdown",
   "metadata": {},
   "source": [
    "### Avaliação das Stories\n",
    "\n",
    "Outra forma de analisar seu chatbot é por meio da própria avaliação do Rasa, ele gera uma matriz de confusão com os dados fornecidos nas `stories` e do resultado do treinamento armazenado na pasta `models`."
   ]
  },
  {
   "cell_type": "markdown",
   "metadata": {},
   "source": [
    "* Caso você ainda não tenha treinado seu chatbot execute a céclula abaixo para treina-lo."
   ]
  },
  {
   "cell_type": "code",
   "execution_count": 4,
   "metadata": {
    "scrolled": true
   },
   "outputs": [
    {
     "name": "stdout",
     "output_type": "stream",
     "text": [
      "make: Entering directory '/work/coach'\n",
      "python3 -m rasa_nlu.train -c nlu_config.yml --fixed_model_name current \\\n",
      "--data data/intents/ -o /src_models --project nlu --verbose\n",
      "/usr/local/lib/python3.6/runpy.py:125: RuntimeWarning: 'rasa_nlu.train' found in sys.modules after import of package 'rasa_nlu', but prior to execution of 'rasa_nlu.train'; this may result in unpredictable behaviour\n",
      "  warn(RuntimeWarning(msg))\n",
      "2019-09-24 18:49:05 \u001b[1;30mINFO    \u001b[0m \u001b[34mrasa_nlu.training_data.loading\u001b[0m  - Training data format of data/intents/aleatorio.md is md\n",
      "2019-09-24 18:49:05 \u001b[1;30mINFO    \u001b[0m \u001b[34mrasa_nlu.training_data.training_data\u001b[0m  - Training data stats: \n",
      "\t- intent examples: 411 (24 distinct intents)\n",
      "\t- Found intents: 'religiao', 'star_wars', 'piada', 'hobby', 'historia', 'filme', 'playlist', 'de_onde_voce_eh', 'genero', 'esporte', 'risada', 'license', 'time', 'me', 'como_estou', 'cor', 'filhos', 'comida', 'onde_voce_mora', 'linguagens', 'relationship', 'signo', 'bff', 'triste'\n",
      "\t- entity examples: 173 (22 distinct entities)\n",
      "\t- found entities: 'religiao', 'piada', 'esporte', 'cor', 'linguagens', 'relationship', 'triste', 'how', 'starwars', 'where', 'historia', 'hobby', 'live', 'filme', 'playlist', 'license', 'me', 'filhos', 'comida', 'signo', 'bff', 'genero'\n",
      "\n",
      "2019-09-24 18:49:05 \u001b[1;30mINFO    \u001b[0m \u001b[34mrasa_nlu.training_data.loading\u001b[0m  - Training data format of data/intents/actions.md is md\n",
      "2019-09-24 18:49:05 \u001b[1;30mINFO    \u001b[0m \u001b[34mrasa_nlu.training_data.training_data\u001b[0m  - Training data stats: \n",
      "\t- intent examples: 6 (1 distinct intents)\n",
      "\t- Found intents: 'action_test'\n",
      "\t- entity examples: 0 (0 distinct entities)\n",
      "\t- found entities: \n",
      "\n",
      "2019-09-24 18:49:05 \u001b[1;30mINFO    \u001b[0m \u001b[34mrasa_nlu.training_data.loading\u001b[0m  - Training data format of data/intents/geral.md is md\n",
      "2019-09-24 18:49:05 \u001b[1;30mINFO    \u001b[0m \u001b[34mrasa_nlu.training_data.training_data\u001b[0m  - Training data stats: \n",
      "\t- intent examples: 155 (11 distinct intents)\n",
      "\t- Found intents: 'out_of_scope', 'elogios', 'cumprimentar', 'negar_despedir', 'negacao_botao', 'negar', 'botao', 'despedir', 'tudo_bem', 'afirmacao_botao', 'diga_mais'\n",
      "\t- entity examples: 0 (0 distinct entities)\n",
      "\t- found entities: \n",
      "\n",
      "2019-09-24 18:49:05 \u001b[1;30mINFO    \u001b[0m \u001b[34mrasa_nlu.training_data.training_data\u001b[0m  - Training data stats: \n",
      "\t- intent examples: 572 (36 distinct intents)\n",
      "\t- Found intents: 'religiao', 'piada', 'negar', 'afirmacao_botao', 'esporte', 'cumprimentar', 'como_estou', 'cor', 'negar_despedir', 'onde_voce_mora', 'botao', 'linguagens', 'despedir', 'relationship', 'triste', 'elogios', 'star_wars', 'hobby', 'historia', 'negacao_botao', 'filme', 'playlist', 'de_onde_voce_eh', 'action_test', 'risada', 'license', 'time', 'out_of_scope', 'me', 'filhos', 'comida', 'diga_mais', 'tudo_bem', 'signo', 'bff', 'genero'\n",
      "\t- entity examples: 173 (22 distinct entities)\n",
      "\t- found entities: 'religiao', 'piada', 'esporte', 'cor', 'linguagens', 'relationship', 'triste', 'how', 'starwars', 'where', 'historia', 'hobby', 'live', 'filme', 'playlist', 'license', 'me', 'filhos', 'comida', 'signo', 'bff', 'genero'\n",
      "\n",
      "/usr/local/lib/python3.6/site-packages/rasa_nlu/training_data/training_data.py:176: UserWarning: Intent 'afirmacao_botao' has only 1 training examples! Minimum is 2, training may fail.\n",
      "  self.MIN_EXAMPLES_PER_INTENT))\n",
      "/usr/local/lib/python3.6/site-packages/rasa_nlu/training_data/training_data.py:176: UserWarning: Intent 'negacao_botao' has only 1 training examples! Minimum is 2, training may fail.\n",
      "  self.MIN_EXAMPLES_PER_INTENT))\n",
      "2019-09-24 18:49:05 \u001b[1;30mINFO    \u001b[0m \u001b[34mrasa_nlu.model\u001b[0m  - Starting to train component WhitespaceTokenizer\n",
      "2019-09-24 18:49:05 \u001b[1;30mINFO    \u001b[0m \u001b[34mrasa_nlu.model\u001b[0m  - Finished training component.\n",
      "2019-09-24 18:49:05 \u001b[1;30mINFO    \u001b[0m \u001b[34mrasa_nlu.model\u001b[0m  - Starting to train component CRFEntityExtractor\n",
      "2019-09-24 18:49:06 \u001b[1;30mINFO    \u001b[0m \u001b[34mrasa_nlu.model\u001b[0m  - Finished training component.\n",
      "2019-09-24 18:49:06 \u001b[1;30mINFO    \u001b[0m \u001b[34mrasa_nlu.model\u001b[0m  - Starting to train component EntitySynonymMapper\n",
      "2019-09-24 18:49:06 \u001b[1;30mINFO    \u001b[0m \u001b[34mrasa_nlu.model\u001b[0m  - Finished training component.\n",
      "2019-09-24 18:49:06 \u001b[1;30mINFO    \u001b[0m \u001b[34mrasa_nlu.model\u001b[0m  - Starting to train component CountVectorsFeaturizer\n",
      "2019-09-24 18:49:07 \u001b[1;30mINFO    \u001b[0m \u001b[34mrasa_nlu.model\u001b[0m  - Finished training component.\n",
      "2019-09-24 18:49:07 \u001b[1;30mINFO    \u001b[0m \u001b[34mrasa_nlu.model\u001b[0m  - Starting to train component EmbeddingIntentClassifier\n",
      "\n",
      "WARNING: The TensorFlow contrib module will not be included in TensorFlow 2.0.\n",
      "For more information, please see:\n",
      "  * https://github.com/tensorflow/community/blob/master/rfcs/20180907-contrib-sunset.md\n",
      "  * https://github.com/tensorflow/addons\n",
      "If you depend on functionality not listed there, please file an issue.\n",
      "\n",
      "2019-09-24 18:49:07 \u001b[1;30mWARNING \u001b[0m \u001b[34mtensorflow\u001b[0m  - \u001b[33mFrom /usr/local/lib/python3.6/site-packages/rasa_nlu/classifiers/embedding_intent_classifier.py:285: dense (from tensorflow.python.layers.core) is deprecated and will be removed in a future version.\n",
      "Instructions for updating:\n",
      "Use keras.layers.dense instead.\u001b[0m\n",
      "2019-09-24 18:49:07 \u001b[1;30mWARNING \u001b[0m \u001b[34mtensorflow\u001b[0m  - \u001b[33mFrom /usr/local/lib/python3.6/site-packages/tensorflow/python/framework/op_def_library.py:263: colocate_with (from tensorflow.python.framework.ops) is deprecated and will be removed in a future version.\n",
      "Instructions for updating:\n",
      "Colocations handled automatically by placer.\u001b[0m\n",
      "2019-09-24 18:49:07 \u001b[1;30mWARNING \u001b[0m \u001b[34mtensorflow\u001b[0m  - \u001b[33mFrom /usr/local/lib/python3.6/site-packages/rasa_nlu/classifiers/embedding_intent_classifier.py:286: dropout (from tensorflow.python.layers.core) is deprecated and will be removed in a future version.\n",
      "Instructions for updating:\n",
      "Use keras.layers.dropout instead.\u001b[0m\n",
      "2019-09-24 18:49:07 \u001b[1;30mWARNING \u001b[0m \u001b[34mtensorflow\u001b[0m  - \u001b[33mFrom /usr/local/lib/python3.6/site-packages/tensorflow/python/keras/layers/core.py:143: calling dropout (from tensorflow.python.ops.nn_ops) with keep_prob is deprecated and will be removed in a future version.\n",
      "Instructions for updating:\n",
      "Please use `rate` instead of `keep_prob`. Rate should be set to `rate = 1 - keep_prob`.\u001b[0m\n",
      "2019-09-24 18:49:08 \u001b[1;30mWARNING \u001b[0m \u001b[34mtensorflow\u001b[0m  - \u001b[33mFrom /usr/local/lib/python3.6/site-packages/tensorflow/python/ops/math_ops.py:3066: to_int32 (from tensorflow.python.ops.math_ops) is deprecated and will be removed in a future version.\n",
      "Instructions for updating:\n",
      "Use tf.cast instead.\u001b[0m\n",
      "2019-09-24 18:49:08 \u001b[1;30mWARNING \u001b[0m \u001b[34mtensorflow\u001b[0m  - \u001b[33mFrom /usr/local/lib/python3.6/site-packages/tensorflow/python/ops/math_grad.py:102: div (from tensorflow.python.ops.math_ops) is deprecated and will be removed in a future version.\n",
      "Instructions for updating:\n",
      "Deprecated in favor of operator or tf.math.divide.\u001b[0m\n",
      "2019-09-24 18:49:08.516966: I tensorflow/core/platform/cpu_feature_guard.cc:141] Your CPU supports instructions that this TensorFlow binary was not compiled to use: AVX2 FMA\n",
      "2019-09-24 18:49:08.520763: I tensorflow/core/platform/profile_utils/cpu_utils.cc:94] CPU Frequency: 2400000000 Hz\n",
      "2019-09-24 18:49:08.521012: I tensorflow/compiler/xla/service/service.cc:150] XLA service 0x55bda5171710 executing computations on platform Host. Devices:\n",
      "2019-09-24 18:49:08.521042: I tensorflow/compiler/xla/service/service.cc:158]   StreamExecutor device (0): <undefined>, <undefined>\n",
      "2019-09-24 18:49:08 \u001b[1;30mINFO    \u001b[0m \u001b[34mrasa_nlu.classifiers.embedding_intent_classifier\u001b[0m  - Accuracy is updated every 10 epochs\n",
      "Epochs: 100%|██████████| 300/300 [00:19<00:00, 14.64it/s, loss=0.066, acc=1.000]\n",
      "2019-09-24 18:49:27 \u001b[1;30mINFO    \u001b[0m \u001b[34mrasa_nlu.classifiers.embedding_intent_classifier\u001b[0m  - Finished training embedding classifier, loss=0.066, train accuracy=1.000\n",
      "2019-09-24 18:49:27 \u001b[1;30mINFO    \u001b[0m \u001b[34mrasa_nlu.model\u001b[0m  - Finished training component.\n",
      "2019-09-24 18:49:27 \u001b[1;30mINFO    \u001b[0m \u001b[34mrasa_nlu.model\u001b[0m  - Successfully saved model into '/src_models/nlu/current'\n",
      "2019-09-24 18:49:27 \u001b[1;30mINFO    \u001b[0m \u001b[34m__main__\u001b[0m  - Finished training\n",
      "python3 train.py\n",
      "2019-09-24 18:49:30 \u001b[1;30mINFO    \u001b[0m \u001b[34mapscheduler.scheduler\u001b[0m  - Scheduler started\n",
      "2019-09-24 18:49:30 \u001b[1;30mDEBUG   \u001b[0m \u001b[34mapscheduler.scheduler\u001b[0m  - Looking for jobs to run\n",
      "2019-09-24 18:49:30 \u001b[1;30mDEBUG   \u001b[0m \u001b[34mapscheduler.scheduler\u001b[0m  - No jobs; waiting until a job is added\n"
     ]
    },
    {
     "name": "stdout",
     "output_type": "stream",
     "text": [
      "\n",
      "WARNING: The TensorFlow contrib module will not be included in TensorFlow 2.0.\n",
      "For more information, please see:\n",
      "  * https://github.com/tensorflow/community/blob/master/rfcs/20180907-contrib-sunset.md\n",
      "  * https://github.com/tensorflow/addons\n",
      "If you depend on functionality not listed there, please file an issue.\n",
      "\n",
      "2019-09-24 18:49:31 \u001b[1;30mDEBUG   \u001b[0m \u001b[34mrasa_core.training.generator\u001b[0m  - Number of augmentation rounds is 3\n",
      "2019-09-24 18:49:31 \u001b[1;30mDEBUG   \u001b[0m \u001b[34mrasa_core.training.generator\u001b[0m  - Starting data generation round 0 ... (with 1 trackers)\n",
      "Processed Story Blocks: 100%|███| 62/62 [00:00<00:00, 4881.03it/s, # trackers=1]\n",
      "2019-09-24 18:49:31 \u001b[1;30mDEBUG   \u001b[0m \u001b[34mrasa_core.training.generator\u001b[0m  - Finished phase (62 training samples found).\n",
      "2019-09-24 18:49:31 \u001b[1;30mDEBUG   \u001b[0m \u001b[34mrasa_core.training.generator\u001b[0m  - Data generation rounds finished.\n",
      "2019-09-24 18:49:31 \u001b[1;30mDEBUG   \u001b[0m \u001b[34mrasa_core.training.generator\u001b[0m  - Found 0 unused checkpoints\n",
      "2019-09-24 18:49:31 \u001b[1;30mDEBUG   \u001b[0m \u001b[34mrasa_core.training.generator\u001b[0m  - Starting augmentation round 0 ... (with 50 trackers)\n",
      "Processed Story Blocks: 100%|███| 62/62 [00:00<00:00, 127.26it/s, # trackers=50]\n",
      "2019-09-24 18:49:31 \u001b[1;30mDEBUG   \u001b[0m \u001b[34mrasa_core.training.generator\u001b[0m  - Finished phase (3135 training samples found).\n",
      "2019-09-24 18:49:31 \u001b[1;30mDEBUG   \u001b[0m \u001b[34mrasa_core.training.generator\u001b[0m  - Starting augmentation round 1 ... (with 50 trackers)\n",
      "Processed Story Blocks: 100%|████| 62/62 [00:00<00:00, 80.99it/s, # trackers=50]\n",
      "2019-09-24 18:49:32 \u001b[1;30mDEBUG   \u001b[0m \u001b[34mrasa_core.training.generator\u001b[0m  - Finished phase (6065 training samples found).\n",
      "2019-09-24 18:49:32 \u001b[1;30mDEBUG   \u001b[0m \u001b[34mrasa_core.training.generator\u001b[0m  - Starting augmentation round 2 ... (with 50 trackers)\n",
      "Processed Story Blocks: 100%|████| 62/62 [00:00<00:00, 76.93it/s, # trackers=50]\n",
      "2019-09-24 18:49:33 \u001b[1;30mDEBUG   \u001b[0m \u001b[34mrasa_core.training.generator\u001b[0m  - Finished phase (9103 training samples found).\n",
      "2019-09-24 18:49:33 \u001b[1;30mDEBUG   \u001b[0m \u001b[34mrasa_core.training.generator\u001b[0m  - Found 9103 training trackers.\n",
      "2019-09-24 18:49:33 \u001b[1;30mDEBUG   \u001b[0m \u001b[34mrasa_core.training.generator\u001b[0m  - Subsampled to 500 augmented training trackers.\n",
      "2019-09-24 18:49:33 \u001b[1;30mDEBUG   \u001b[0m \u001b[34mrasa_core.training.generator\u001b[0m  - There are 62 original trackers.\n",
      "2019-09-24 18:49:33 \u001b[1;30mDEBUG   \u001b[0m \u001b[34mrasa_core.agent\u001b[0m  - Agent trainer got kwargs: {'validation_split': 0.2}\n",
      "2019-09-24 18:49:33 \u001b[1;30mDEBUG   \u001b[0m \u001b[34mrasa_core.featurizers\u001b[0m  - Creating states and action examples from collected trackers (by FullDialogueTrackerFeaturizer(LabelTokenizerSingleStateFeaturizer))...\n",
      "Processed trackers: 100%|██████████████████| 562/562 [00:00<00:00, 19604.12it/s]\n",
      "2019-09-24 18:49:33 \u001b[1;30mDEBUG   \u001b[0m \u001b[34mrasa_core.featurizers\u001b[0m  - The longest dialogue has 21 actions.\n",
      "2019-09-24 18:49:33.785780: I tensorflow/core/platform/cpu_feature_guard.cc:141] Your CPU supports instructions that this TensorFlow binary was not compiled to use: AVX2 FMA\n",
      "2019-09-24 18:49:33.790445: I tensorflow/core/platform/profile_utils/cpu_utils.cc:94] CPU Frequency: 2400000000 Hz\n",
      "2019-09-24 18:49:33.790744: I tensorflow/compiler/xla/service/service.cc:150] XLA service 0x5612c9ca5950 executing computations on platform Host. Devices:\n",
      "2019-09-24 18:49:33.790804: I tensorflow/compiler/xla/service/service.cc:158]   StreamExecutor device (0): <undefined>, <undefined>\n",
      "2019-09-24 18:49:33 \u001b[1;30mWARNING \u001b[0m \u001b[34mtensorflow\u001b[0m  - \u001b[33mFrom /usr/local/lib/python3.6/site-packages/tensorflow/python/ops/resource_variable_ops.py:435: colocate_with (from tensorflow.python.framework.ops) is deprecated and will be removed in a future version.\n",
      "Instructions for updating:\n",
      "Colocations handled automatically by placer.\u001b[0m\n",
      "2019-09-24 18:49:33 \u001b[1;30mWARNING \u001b[0m \u001b[34mtensorflow\u001b[0m  - \u001b[33mFrom /usr/local/lib/python3.6/site-packages/tensorflow/python/keras/backend.py:4010: calling dropout (from tensorflow.python.ops.nn_ops) with keep_prob is deprecated and will be removed in a future version.\n",
      "Instructions for updating:\n",
      "Please use `rate` instead of `keep_prob`. Rate should be set to `rate = 1 - keep_prob`.\u001b[0m\n",
      "_________________________________________________________________\n",
      "Layer (type)                 Output Shape              Param #   \n",
      "=================================================================\n",
      "masking (Masking)            (None, None, 107)         0         \n",
      "_________________________________________________________________\n",
      "lstm (LSTM)                  (None, None, 32)          17920     \n",
      "_________________________________________________________________\n",
      "time_distributed (TimeDistri (None, None, 43)          1419      \n",
      "_________________________________________________________________\n",
      "activation (Activation)      (None, None, 43)          0         \n",
      "=================================================================\n",
      "Total params: 19,339\n",
      "Trainable params: 19,339\n",
      "Non-trainable params: 0\n",
      "_________________________________________________________________\n",
      "2019-09-24 18:49:34 \u001b[1;30mDEBUG   \u001b[0m \u001b[34mrasa_core.policies.keras_policy\u001b[0m  - None\n",
      "2019-09-24 18:49:34 \u001b[1;30mINFO    \u001b[0m \u001b[34mrasa_core.policies.keras_policy\u001b[0m  - Fitting model with 562 total samples and a validation split of 0.1\n",
      "2019-09-24 18:49:34 \u001b[1;30mDEBUG   \u001b[0m \u001b[34mrasa_core.policies.policy\u001b[0m  - Parameters ignored by `model.fit(...)`: {}\n",
      "2019-09-24 18:49:34 \u001b[1;30mWARNING \u001b[0m \u001b[34mtensorflow\u001b[0m  - \u001b[33mFrom /usr/local/lib/python3.6/site-packages/tensorflow/python/ops/math_ops.py:3066: to_int32 (from tensorflow.python.ops.math_ops) is deprecated and will be removed in a future version.\n",
      "Instructions for updating:\n",
      "Use tf.cast instead.\u001b[0m\n",
      "2019-09-24 18:49:34 \u001b[1;30mWARNING \u001b[0m \u001b[34mtensorflow\u001b[0m  - \u001b[33mFrom /usr/local/lib/python3.6/site-packages/tensorflow/python/ops/math_grad.py:102: div (from tensorflow.python.ops.math_ops) is deprecated and will be removed in a future version.\n",
      "Instructions for updating:\n",
      "Deprecated in favor of operator or tf.math.divide.\u001b[0m\n",
      "Epoch 1/25\n",
      "562/562 [==============================] - 2s 3ms/sample - loss: 3.0348 - acc: 0.4113\n",
      "Epoch 2/25\n",
      "562/562 [==============================] - 1s 2ms/sample - loss: 2.3769 - acc: 0.4484\n",
      "Epoch 3/25\n",
      "562/562 [==============================] - 1s 2ms/sample - loss: 2.1256 - acc: 0.4487\n",
      "Epoch 4/25\n",
      "562/562 [==============================] - 1s 1ms/sample - loss: 1.8606 - acc: 0.5183\n",
      "Epoch 5/25\n",
      "562/562 [==============================] - 1s 2ms/sample - loss: 1.6184 - acc: 0.6657\n",
      "Epoch 6/25\n",
      "562/562 [==============================] - 2s 3ms/sample - loss: 1.4131 - acc: 0.7401\n",
      "Epoch 7/25\n",
      "562/562 [==============================] - 1s 2ms/sample - loss: 1.2552 - acc: 0.7478\n",
      "Epoch 8/25\n",
      "562/562 [==============================] - 1s 1ms/sample - loss: 1.1183 - acc: 0.7511\n",
      "Epoch 9/25\n",
      "562/562 [==============================] - 1s 2ms/sample - loss: 0.9962 - acc: 0.7647\n",
      "Epoch 10/25\n",
      "562/562 [==============================] - 1s 2ms/sample - loss: 0.8734 - acc: 0.7997\n",
      "Epoch 11/25\n",
      "562/562 [==============================] - 1s 1ms/sample - loss: 0.7620 - acc: 0.8326\n",
      "Epoch 12/25\n",
      "562/562 [==============================] - 1s 2ms/sample - loss: 0.6538 - acc: 0.8738\n",
      "Epoch 13/25\n",
      "562/562 [==============================] - 1s 2ms/sample - loss: 0.5754 - acc: 0.9034\n",
      "Epoch 14/25\n",
      "562/562 [==============================] - 1s 2ms/sample - loss: 0.4900 - acc: 0.9331\n",
      "Epoch 15/25\n",
      "562/562 [==============================] - 1s 2ms/sample - loss: 0.4061 - acc: 0.9517\n",
      "Epoch 16/25\n",
      "562/562 [==============================] - 1s 2ms/sample - loss: 0.3482 - acc: 0.9577\n",
      "Epoch 17/25\n",
      "562/562 [==============================] - 1s 2ms/sample - loss: 0.3006 - acc: 0.9605\n",
      "Epoch 18/25\n",
      "562/562 [==============================] - 1s 2ms/sample - loss: 0.2479 - acc: 0.9655\n",
      "Epoch 19/25\n",
      "562/562 [==============================] - 1s 2ms/sample - loss: 0.1997 - acc: 0.9733\n",
      "Epoch 20/25\n",
      "562/562 [==============================] - 1s 2ms/sample - loss: 0.1754 - acc: 0.9753\n",
      "Epoch 21/25\n",
      "562/562 [==============================] - 1s 2ms/sample - loss: 0.1625 - acc: 0.9781\n",
      "Epoch 22/25\n"
     ]
    },
    {
     "name": "stdout",
     "output_type": "stream",
     "text": [
      "562/562 [==============================] - 1s 2ms/sample - loss: 0.1336 - acc: 0.9807\n",
      "Epoch 23/25\n",
      "562/562 [==============================] - 1s 2ms/sample - loss: 0.1300 - acc: 0.9801\n",
      "Epoch 24/25\n",
      "562/562 [==============================] - 1s 1ms/sample - loss: 0.1092 - acc: 0.9831\n",
      "Epoch 25/25\n",
      "562/562 [==============================] - 1s 1ms/sample - loss: 0.1098 - acc: 0.9822\n",
      "2019-09-24 18:50:00 \u001b[1;30mINFO    \u001b[0m \u001b[34mrasa_core.policies.keras_policy\u001b[0m  - Done fitting keras policy model\n",
      "2019-09-24 18:50:00 \u001b[1;30mDEBUG   \u001b[0m \u001b[34mrasa_core.featurizers\u001b[0m  - Creating states and action examples from collected trackers (by MaxHistoryTrackerFeaturizer(SingleStateFeaturizer))...\n",
      "Processed trackers: 100%|██████| 62/62 [00:00<00:00, 3132.23it/s, # actions=125]\n",
      "2019-09-24 18:50:00 \u001b[1;30mDEBUG   \u001b[0m \u001b[34mrasa_core.featurizers\u001b[0m  - Created 125 action examples.\n",
      "Processed actions: 125it [00:00, 10543.75it/s, # examples=125]\n",
      "2019-09-24 18:50:00 \u001b[1;30mDEBUG   \u001b[0m \u001b[34mrasa_core.policies.memoization\u001b[0m  - Memorized 125 unique examples.\n",
      "2019-09-24 18:50:00 \u001b[1;30mINFO    \u001b[0m \u001b[34mrasa_core.agent\u001b[0m  - Persisted model to '/src_models/dialogue'\n",
      "make: Leaving directory '/work/coach'\n"
     ]
    }
   ],
   "source": [
    "!make train -C $COACH_DIR_PATH"
   ]
  },
  {
   "cell_type": "markdown",
   "metadata": {},
   "source": [
    "* `rasa_core.evaluate` é o método utilizado para verificar a qualidade das suas `stories`."
   ]
  },
  {
   "cell_type": "code",
   "execution_count": 5,
   "metadata": {
    "scrolled": true
   },
   "outputs": [
    {
     "name": "stdout",
     "output_type": "stream",
     "text": [
      "Calling `rasa_core.evaluate` is deprecated. Please use `rasa_core.test` instead.\n",
      "\n",
      "WARNING: The TensorFlow contrib module will not be included in TensorFlow 2.0.\n",
      "For more information, please see:\n",
      "  * https://github.com/tensorflow/community/blob/master/rfcs/20180907-contrib-sunset.md\n",
      "  * https://github.com/tensorflow/addons\n",
      "If you depend on functionality not listed there, please file an issue.\n",
      "\n",
      "2019-09-24 18:50:05.218174: I tensorflow/core/platform/cpu_feature_guard.cc:141] Your CPU supports instructions that this TensorFlow binary was not compiled to use: AVX2 FMA\n",
      "2019-09-24 18:50:05.222123: I tensorflow/core/platform/profile_utils/cpu_utils.cc:94] CPU Frequency: 2400000000 Hz\n",
      "2019-09-24 18:50:05.222347: I tensorflow/compiler/xla/service/service.cc:150] XLA service 0x55db1dceb5f0 executing computations on platform Host. Devices:\n",
      "2019-09-24 18:50:05.222371: I tensorflow/compiler/xla/service/service.cc:158]   StreamExecutor device (0): <undefined>, <undefined>\n",
      "WARNING:tensorflow:From /usr/local/lib/python3.6/site-packages/tensorflow/python/ops/resource_variable_ops.py:435: colocate_with (from tensorflow.python.framework.ops) is deprecated and will be removed in a future version.\n",
      "Instructions for updating:\n",
      "Colocations handled automatically by placer.\n",
      "WARNING:tensorflow:From /usr/local/lib/python3.6/site-packages/tensorflow/python/ops/resource_variable_ops.py:435: colocate_with (from tensorflow.python.framework.ops) is deprecated and will be removed in a future version.\n",
      "Instructions for updating:\n",
      "Colocations handled automatically by placer.\n",
      "WARNING:tensorflow:From /usr/local/lib/python3.6/site-packages/tensorflow/python/keras/backend.py:4010: calling dropout (from tensorflow.python.ops.nn_ops) with keep_prob is deprecated and will be removed in a future version.\n",
      "Instructions for updating:\n",
      "Please use `rate` instead of `keep_prob`. Rate should be set to `rate = 1 - keep_prob`.\n",
      "WARNING:tensorflow:From /usr/local/lib/python3.6/site-packages/tensorflow/python/keras/backend.py:4010: calling dropout (from tensorflow.python.ops.nn_ops) with keep_prob is deprecated and will be removed in a future version.\n",
      "Instructions for updating:\n",
      "Please use `rate` instead of `keep_prob`. Rate should be set to `rate = 1 - keep_prob`.\n",
      "WARNING:tensorflow:From /usr/local/lib/python3.6/site-packages/tensorflow/python/ops/math_ops.py:3066: to_int32 (from tensorflow.python.ops.math_ops) is deprecated and will be removed in a future version.\n",
      "Instructions for updating:\n",
      "Use tf.cast instead.\n",
      "WARNING:tensorflow:From /usr/local/lib/python3.6/site-packages/tensorflow/python/ops/math_ops.py:3066: to_int32 (from tensorflow.python.ops.math_ops) is deprecated and will be removed in a future version.\n",
      "Instructions for updating:\n",
      "Use tf.cast instead.\n",
      "WARNING:tensorflow:From /usr/local/lib/python3.6/site-packages/tensorflow/python/ops/math_grad.py:102: div (from tensorflow.python.ops.math_ops) is deprecated and will be removed in a future version.\n",
      "Instructions for updating:\n",
      "Deprecated in favor of operator or tf.math.divide.\n",
      "WARNING:tensorflow:From /usr/local/lib/python3.6/site-packages/tensorflow/python/ops/math_grad.py:102: div (from tensorflow.python.ops.math_ops) is deprecated and will be removed in a future version.\n",
      "Instructions for updating:\n",
      "Deprecated in favor of operator or tf.math.divide.\n",
      "Processed Story Blocks: 100%|███| 62/62 [00:00<00:00, 5293.47it/s, # trackers=1]\n",
      "INFO:rasa_core.test:Evaluating 62 stories\n",
      "Progress:\n",
      "100%|███████████████████████████████████████████| 62/62 [00:01<00:00, 59.33it/s]\n",
      "INFO:rasa_core.test:Finished collecting predictions.\n",
      "INFO:rasa_core.test:Evaluation Results on CONVERSATION level:\n",
      "INFO:rasa_core.test:\tCorrect:          62 / 62\n",
      "INFO:rasa_core.test:\tF1-Score:         1.000\n",
      "INFO:rasa_core.test:\tPrecision:        1.000\n",
      "INFO:rasa_core.test:\tAccuracy:         1.000\n",
      "INFO:rasa_core.test:\tIn-data fraction: 1\n",
      "INFO:rasa_core.test:Evaluation Results on ACTION level:\n",
      "INFO:rasa_core.test:\tCorrect:          232 / 232\n",
      "INFO:rasa_core.test:\tF1-Score:         1.000\n",
      "INFO:rasa_core.test:\tPrecision:        1.000\n",
      "INFO:rasa_core.test:\tAccuracy:         1.000\n",
      "INFO:rasa_core.test:\tIn-data fraction: 1\n",
      "INFO:rasa_core.test:\tClassification report: \n",
      "                          precision    recall  f1-score   support\n",
      "\n",
      "           action_listen       1.00      1.00      1.00        91\n",
      "             action_test       1.00      1.00      1.00         2\n",
      "   utter_afirmacao_botao       1.00      1.00      1.00         1\n",
      "               utter_bff       1.00      1.00      1.00         2\n",
      "             utter_botao       1.00      1.00      1.00         2\n",
      "            utter_comida       1.00      1.00      1.00         2\n",
      "        utter_como_estou       1.00      1.00      1.00         2\n",
      "utter_continuar_conversa       1.00      1.00      1.00        50\n",
      "               utter_cor       1.00      1.00      1.00         2\n",
      "      utter_cumprimentar       1.00      1.00      1.00        28\n",
      "   utter_de_onde_voce_eh       1.00      1.00      1.00         2\n",
      "           utter_default       1.00      1.00      1.00         1\n",
      "          utter_despedir       1.00      1.00      1.00         3\n",
      "         utter_diga_mais       1.00      1.00      1.00         1\n",
      "           utter_elogios       1.00      1.00      1.00         2\n",
      "           utter_esporte       1.00      1.00      1.00         2\n",
      "            utter_filhos       1.00      1.00      1.00         2\n",
      "             utter_filme       1.00      1.00      1.00         2\n",
      "            utter_genero       1.00      1.00      1.00         2\n",
      "          utter_historia       1.00      1.00      1.00         2\n",
      "             utter_hobby       1.00      1.00      1.00         2\n",
      "           utter_license       1.00      1.00      1.00         2\n",
      "        utter_linguagens       1.00      1.00      1.00         2\n",
      "                utter_me       1.00      1.00      1.00         2\n",
      "     utter_negacao_botao       1.00      1.00      1.00         1\n",
      "    utter_onde_voce_mora       1.00      1.00      1.00         2\n",
      "             utter_piada       1.00      1.00      1.00         2\n",
      "          utter_playlist       1.00      1.00      1.00         2\n",
      "      utter_relationship       1.00      1.00      1.00         2\n",
      "          utter_religiao       1.00      1.00      1.00         2\n",
      "            utter_risada       1.00      1.00      1.00         2\n",
      "             utter_signo       1.00      1.00      1.00         2\n",
      "         utter_star_wars       1.00      1.00      1.00         2\n",
      "              utter_time       1.00      1.00      1.00         2\n",
      "            utter_triste       1.00      1.00      1.00         2\n",
      "          utter_tudo_bem       1.00      1.00      1.00         2\n",
      "\n",
      "               micro avg       1.00      1.00      1.00       232\n",
      "               macro avg       1.00      1.00      1.00       232\n",
      "            weighted avg       1.00      1.00      1.00       232\n",
      "\n",
      "INFO:rasa_nlu.test:Confusion matrix, without normalization: \n",
      "[[91  0  0 ...  0  0  0]\n",
      " [ 0  2  0 ...  0  0  0]\n",
      " [ 0  0  1 ...  0  0  0]\n",
      " ...\n",
      " [ 0  0  0 ...  2  0  0]\n",
      " [ 0  0  0 ...  0  2  0]\n",
      " [ 0  0  0 ...  0  0  2]]\n",
      "INFO:rasa_core.test:Finished evaluation\n"
     ]
    }
   ],
   "source": [
    "!python -m rasa_core.evaluate --core $COACH_MODELS_DIALOGUE_PATH -s $COACH_STORIES_PATH -o results"
   ]
  },
  {
   "cell_type": "markdown",
   "metadata": {},
   "source": [
    "* Caso algum problme seja encotrado ele será descrito no arquivo `failed_stories.md`"
   ]
  },
  {
   "cell_type": "code",
   "execution_count": 6,
   "metadata": {},
   "outputs": [
    {
     "name": "stdout",
     "output_type": "stream",
     "text": [
      "<!-- All stories passed -->"
     ]
    }
   ],
   "source": [
    "!cat results/failed_stories.md"
   ]
  },
  {
   "cell_type": "markdown",
   "metadata": {},
   "source": [
    "* Se tudo estiver correto você deverá ver a mensagem:\n",
    "\n",
    "`<!-- All stories passed -->`"
   ]
  },
  {
   "cell_type": "markdown",
   "metadata": {},
   "source": [
    "* Outro arquivo gerado é  o `story_confmat.pdf` uma matriz de confusão onde é possível visualizar a relação entre as `utters` (mensagens enviadas .\n",
    "`Para visualizar a matriz de confusão neste notebook, abra-o com firefox`."
   ]
  },
  {
   "cell_type": "code",
   "execution_count": 7,
   "metadata": {
    "scrolled": true
   },
   "outputs": [
    {
     "data": {
      "text/html": [
       "\n",
       "        <iframe\n",
       "            width=\"900\"\n",
       "            height=\"900\"\n",
       "            src=\"results/story_confmat.pdf\"\n",
       "            frameborder=\"0\"\n",
       "            allowfullscreen\n",
       "        ></iframe>\n",
       "        "
      ],
      "text/plain": [
       "<IPython.lib.display.IFrame at 0x7f8eee807080>"
      ]
     },
     "execution_count": 7,
     "metadata": {},
     "output_type": "execute_result"
    }
   ],
   "source": [
    "from IPython.display import IFrame\n",
    "IFrame(\"results/story_confmat.pdf\", width=900, height=900)"
   ]
  },
  {
   "cell_type": "markdown",
   "metadata": {},
   "source": [
    "## Referências:\n",
    "\n",
    "O Rasa está em constante evolução, alguns links úteis para a construção deste jupyter-notebook e para a análise das `stories` são:\n",
    "\n",
    "* [Evaluation](https://rasa.com/docs/core/evaluation/)\n",
    "* [Debugging](https://rasa.com/docs/core/debugging/)"
   ]
  },
  {
   "cell_type": "code",
   "execution_count": null,
   "metadata": {},
   "outputs": [],
   "source": []
  }
 ],
 "metadata": {
  "colab": {
   "collapsed_sections": [
    "y4miuS-TqYcn",
    "BBF6Nqi9scQE",
    "Fs3nOUzBsqrG",
    "5MnGuFRpzzBh"
   ],
   "default_view": {},
   "name": "Building a Simple Bot with Rasa Stack - Tutorial",
   "provenance": [
    {
     "file_id": "1GutDkDXmfU-nRzNH7Pxxx8YpdvLUw9LO",
     "timestamp": 1521183725373
    }
   ],
   "toc_visible": true,
   "version": "0.3.2",
   "views": {}
  },
  "kernelspec": {
   "display_name": "Python 3",
   "language": "python",
   "name": "python3"
  },
  "language_info": {
   "codemirror_mode": {
    "name": "ipython",
    "version": 3
   },
   "file_extension": ".py",
   "mimetype": "text/x-python",
   "name": "python",
   "nbconvert_exporter": "python",
   "pygments_lexer": "ipython3",
   "version": "3.6.9"
  }
 },
 "nbformat": 4,
 "nbformat_minor": 1
}
